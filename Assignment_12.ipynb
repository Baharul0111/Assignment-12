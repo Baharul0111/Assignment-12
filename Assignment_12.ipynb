{
 "cells": [
  {
   "cell_type": "code",
   "execution_count": 1,
   "metadata": {},
   "outputs": [
    {
     "data": {
      "text/plain": [
       "'Syntax errors must be fixed by the programmer before the program can be executed. Exceptions can be handled using the try-except block, allowing the program to respond to unexpected situations gracefully.'"
      ]
     },
     "execution_count": 1,
     "metadata": {},
     "output_type": "execute_result"
    }
   ],
   "source": [
    "#question 1\n",
    "'''In Python, an exception is an abnormal event or error that occurs during the execution of a program. '''\n",
    "\n",
    "'''Syntax errors are detected by the Python interpreter during the compilation or parsing phase, before the code is executed. Exceptions occur during the execution of the program and are not detected until the program is running.'''\n",
    "'''Syntax errors are caused by violations of the language's syntax rules. Exceptions are caused by unexpected conditions or events that disrupt the normal flow of the program.'''\n",
    "'''Syntax errors must be fixed by the programmer before the program can be executed. Exceptions can be handled using the try-except block, allowing the program to respond to unexpected situations gracefully.'''\n"
   ]
  },
  {
   "cell_type": "code",
   "execution_count": 3,
   "metadata": {},
   "outputs": [
    {
     "ename": "ZeroDivisionError",
     "evalue": "division by zero",
     "output_type": "error",
     "traceback": [
      "\u001b[0;31m---------------------------------------------------------------------------\u001b[0m",
      "\u001b[0;31mZeroDivisionError\u001b[0m                         Traceback (most recent call last)",
      "Cell \u001b[0;32mIn[3], line 4\u001b[0m\n\u001b[1;32m      2\u001b[0m \u001b[38;5;124;03m'''If no exception handler for a given exception is present, the program stops executing with an error message.'''\u001b[39;00m\n\u001b[1;32m      3\u001b[0m \u001b[38;5;66;03m#example\u001b[39;00m\n\u001b[0;32m----> 4\u001b[0m a\u001b[38;5;241m=\u001b[39m\u001b[38;5;241;43m10\u001b[39;49m\u001b[38;5;241;43m/\u001b[39;49m\u001b[38;5;241;43m0\u001b[39;49m\n\u001b[1;32m      5\u001b[0m b\u001b[38;5;241m=\u001b[39m\u001b[38;5;241m100\u001b[39m\u001b[38;5;241m+\u001b[39m\u001b[38;5;241m20\u001b[39m\n\u001b[1;32m      6\u001b[0m \u001b[38;5;28mprint\u001b[39m(b)\n",
      "\u001b[0;31mZeroDivisionError\u001b[0m: division by zero"
     ]
    }
   ],
   "source": [
    "#question 2\n",
    "'''If no exception handler for a given exception is present, the program stops executing with an error message.'''\n",
    "#example\n",
    "a=10/0\n",
    "b=100+20\n",
    "print(b)"
   ]
  },
  {
   "cell_type": "code",
   "execution_count": 4,
   "metadata": {},
   "outputs": [
    {
     "name": "stdout",
     "output_type": "stream",
     "text": [
      "division by zero\n",
      "30\n"
     ]
    }
   ],
   "source": [
    "#question 3\n",
    "'''The try and except block in Python is used to catch and handle exceptions.'''\n",
    "import logging\n",
    "logging.basicConfig(filename=\"test.log\", level=logging.INFO)\n",
    "try:\n",
    "    a=100/0\n",
    "except ZeroDivisionError as zde:\n",
    "    logging.error(zde)\n",
    "    print(zde)\n",
    "    \n",
    "b=10+20\n",
    "logging.info(b)\n",
    "print(b)"
   ]
  },
  {
   "cell_type": "code",
   "execution_count": 12,
   "metadata": {},
   "outputs": [
    {
     "name": "stdout",
     "output_type": "stream",
     "text": [
      "[Errno 2] No such file or directory: 'zango.txt'\n",
      "This is the finally block\n"
     ]
    }
   ],
   "source": [
    "#question 4\n",
    "'''The try block lets you test a block of code for errors. \n",
    "The except block lets you handle the error. \n",
    "The else block lets you execute code when there is no error. \n",
    "The finally block lets you execute code, regardless of the result of the try- and except blocks.'''\n",
    "\n",
    "try:\n",
    "    f = open(\"zango.txt\", \"r\")\n",
    "    f.read()\n",
    "except FileNotFoundError as fnfe:\n",
    "    logging.error(\"Error as {}\".format(fnfe))\n",
    "    print(fnfe)\n",
    "else:\n",
    "    logging.info(\"File read successfully\")\n",
    "    print(\"File read successfully\")\n",
    "finally:\n",
    "    logging.info(\"This is the finally block\")\n",
    "    print(\"This is the finally block\")\n",
    "\n"
   ]
  },
  {
   "cell_type": "code",
   "execution_count": 13,
   "metadata": {},
   "outputs": [
    {
     "name": "stdout",
     "output_type": "stream",
     "text": [
      "You are not eligible to vote\n"
     ]
    }
   ],
   "source": [
    "#question 5\n",
    "'''In Python, custom exceptions are user-defined exception classes created by the programmer to represent specific error conditions that may occur within their code. '''\n",
    "'''They allow us to define our own error conditions and handle them in a more specific and meaningful way.'''\n",
    "\n",
    "class VoterAge(Exception):\n",
    "    def __init__(self, msg):\n",
    "        self.msg=msg\n",
    "\n",
    "def voterageexception(age):\n",
    "    if age < 18 :\n",
    "        raise VoterAge(\"You are not eligible to vote\")\n",
    "    else:\n",
    "        print(\"You are eligible to vote\")\n",
    "\n",
    "try:\n",
    "    age=int(input(\"Enter your age: \"))\n",
    "    voterageexception(age)\n",
    "except VoterAge as ve:\n",
    "    logging.error(ve)\n",
    "    print(ve)\n"
   ]
  },
  {
   "cell_type": "code",
   "execution_count": 14,
   "metadata": {},
   "outputs": [
    {
     "name": "stdout",
     "output_type": "stream",
     "text": [
      "Custom Exception as  Very Small Number\n"
     ]
    }
   ],
   "source": [
    "#question 6\n",
    "class CustomException(Exception):\n",
    "    def __init__(self, msg):\n",
    "        self.msg=msg\n",
    "\n",
    "def custom_execp(num):\n",
    "    if num < 20:\n",
    "        raise CustomException(\"Very Small Number\")\n",
    "    elif num > 1000 :\n",
    "        raise CustomException(\"very Large number\")\n",
    "    else:\n",
    "        print(\"This is the perfect number\")\n",
    "        \n",
    "try:\n",
    "    num= int(input(\"Enter a number: \"))\n",
    "    custom_execp(num)\n",
    "except CustomException as ce:\n",
    "    logging.error(\"Custom Exception as {}\".format(ce))\n",
    "    print(\"Custom Exception as \", ce)"
   ]
  },
  {
   "cell_type": "code",
   "execution_count": null,
   "metadata": {},
   "outputs": [],
   "source": []
  }
 ],
 "metadata": {
  "kernelspec": {
   "display_name": "Python 3",
   "language": "python",
   "name": "python3"
  },
  "language_info": {
   "codemirror_mode": {
    "name": "ipython",
    "version": 3
   },
   "file_extension": ".py",
   "mimetype": "text/x-python",
   "name": "python",
   "nbconvert_exporter": "python",
   "pygments_lexer": "ipython3",
   "version": "3.9.6"
  }
 },
 "nbformat": 4,
 "nbformat_minor": 2
}
